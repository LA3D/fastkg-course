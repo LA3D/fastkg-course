{
 "cells": [
  {
   "cell_type": "markdown",
   "metadata": {},
   "source": [
    "---\n",
    "title: \"Quickstart to Knowledge Graphs with Semantic Technologies: A fast.ai Approach\"\n",
    "author: \"Charles F. Vardeman II\"\n",
    "date: \"2023-09-09\"\n",
    "format:\n",
    "    html:\n",
    "        code-fold: true\n",
    "        grid:\n",
    "          margin-width: 350px\n",
    "reference-location: margin\n",
    "citation-location: margin\n",
    "bibliography: kg.bib\n",
    "---"
   ]
  },
  {
   "cell_type": "markdown",
   "metadata": {},
   "source": [
    "Welcome to this hands-on tutorial, engineered to accelerate your grasp of Knowledge Engineering, Knowledge Graphs, Linked Data, and the role of Generative AI in factual enrichment. We adopt the pedagogical philosophy of [fast.ai](https://www.fast.ai/), as articulated in their blog post [Providing a Good Education in Deep Learning](https://www.fast.ai/posts/2016-10-08-teaching-philosophy.html), to make the realm of Knowledge Engineering as approachable as neural networks have become.\n",
    "\n",
    "### Why the fast.ai Approach?\n",
    "\n",
    "The fast.ai philosophy emphasizes learning by doing, with a top-down approach that introduces complex topics through practical examples and projects. This hands-on, application-first methodology allows for quick, tangible results that not only bolster understanding but also demonstrate the utility of the subject matter. By incorporating these principles, we aim to demystify the seemingly arcane field of Knowledge Engineering and to deliver both the 'why' and the 'how' in a manner that encourages proactive learning.\n",
    "\n",
    "### Prerequisites\n",
    "\n",
    "To harmonize with the fast.ai approach, this tutorial leverages some of their key introductory materials. Familiarity with the following topics is strongly recommended:\n",
    "\n",
    "- [Getting Started with Practical Deep Learning](https://course.fast.ai/Lessons/lesson1.html)\n",
    "- [Jupyter Notebook 101](https://github.com/fastai/course22/blob/master/01-jupyter-notebook-101.ipynb)\n",
    "- [Deep Learning Deployment](https://course.fast.ai/Lessons/lesson2.html)\n",
    "- [Neural Network Foundations](https://course.fast.ai/Lessons/lesson3.html)\n",
    "- [Natural Language Processing](https://course.fast.ai/Lessons/lesson4.html)\n",
    "\n",
    "::: {.callout-tip}\n",
    "## Generative AI as Learning Companions\n",
    "\n",
    "Generative AI agents like ChatGPT, Bing Chat, and Bard offer proficiency in Semantic Web technologies and Python tools like [rdflib](https://rdflib.readthedocs.io/en/stable/). They serve as invaluable 'copilots' for code generation, debugging, and problem-solving and will be incorporated into later notebooks for ontology construction. Generative AI can also assist with revising text in markdown cells serving as an `editor` for content.\n",
    " \n",
    ":::\n",
    "\n",
    "### The Legacy of The Semantic Web\n",
    "\n",
    "The vision for a semantic web was first articulated by Tim Berners-Lee and his co-authors in their landmark paper [\"The Semantic Web\"](https://lassila.org/publications/2001/SciAm.pdf) published in Scientific American [@berners-leeSemanticWeb2001]. This pioneering work envisaged a web ecosystem where **Software Agents**, **Shared Ontologies**, and [**Linked Data**](https://www.w3.org/DesignIssues/LinkedData.html) would serve as the backbone for assistive agents and intelligent systems. Our tutorial aligns with this vision and the standards that have evolved from it, such as [RDF](https://www.w3.org/TR/rdf11-primer/) and [OWL](https://www.w3.org/TR/owl2-primer/).\n",
    "\n",
    "### Further Reading\n",
    "\n",
    "For an in-depth technical understanding, we recommend the book on Knowledge Graphs as well as the [\"A data engineer's guide to semantic modeling\"](https://zenodo.org/record/3898519/files/A%20data%20engineer%27s%20guide%20to%20semantic%20modelling.pdf?download=1) by Ilaria Maresi [@@ilaria_maresi_2020_3898519] as key references.\n",
    "\n",
    "\n",
    "### Knowledge Graphs: What You Need to Know\n",
    "\n",
    "For a more technical understanding, the book \"Knowledge Graphs\" [@kg-book] offers a [definitive guide](https://kgbook.org). Key chapters to review include:\n",
    "\n",
    "- [Introduction](https://kgbook.org/#chap-intro), [Data Graphs](https://kgbook.org/#chap-graph), [Creation and Enrichment](https://kgbook.org/#chap-create), and [Publication](#chap-publish)\n",
    "\n",
    "Additional recommended chapters include [Schema, Identity, Context](https://kgbook.org/#chap-knowledge) and [Deductive Knowledge](https://kgbook.org/#chap-deductive).\n",
    "\n",
    "::: {.callout-note}\n",
    "We use the \"Knowledge Graph\" books definition of a knowledge graph from the introduction:\n",
    "\n",
    "> \"... as a graph of data intended to accumulate and convey knowledge of the real world, whose nodes represent entities of interest and whose edges represent relations between these entities.\"\n",
    "\n",
    "This definition is broad enough to include embedding structured Knowledge Graph databases like [KùzuDB](https://kuzudb.com/) and [Retrieval Augmented Generation (RAG)](https://gpt-index.readthedocs.io/en/stable/getting_started/concepts.html#retrieval-augmented-generation-rag) in frameworks like [LlamaIndex](https://gpt-index.readthedocs.io/en/stable/index.html) that can automate LLM based query retrieval using [knowledge graphs](https://gpt-index.readthedocs.io/en/stable/examples/index_structs/knowledge_graph/KnowledgeGraphDemo.html) with `Large Language Models`.\n",
    ":::\n",
    "\n",
    "### Tooling Up\n",
    "\n",
    "[Derwen.ai](https://derwen.ai/)’s Python package [kglab](https://derwen.ai/docs/kgl/) will serve as our primary toolset for building knowledge graphs. The [kglab tutorial](https://derwen.ai/docs/kgl/tutorial/) is a complementary resource worth exploring. We have included the tutorial as a [`Git Submodule`](https://github.blog/2016-02-01-working-with-submodules/ in the kglab directory of this repository.\n",
    "\n",
    "We invite you to immerse yourself in the provided examples for hands-on practice and a more comprehensive understanding of knowledge graphs.\n",
    "\n",
    "- [Data and Ontology sources - kglab (derwen.ai)](https://derwen.ai/docs/kgl/ex0_0/) in [kglab/examples/ex0_0.pynb](kglab/examples/ex0_0.ipynb)\n",
    "- [Build an RDF graph using `RDFlib` - kglab (derwen.ai)](https://derwen.ai/docs/kgl/ex1_0/) in [kglab/examples/ex1_0.pynb](kglab/examples/ex1_0.ipynb)\n",
    "- [Leverage the `kglab` abstraction layer - kglab (derwen.ai)](https://derwen.ai/docs/kgl/ex1_1/) in in [kglab/examples/ex1_1.pynb](kglab/examples/ex1_1.ipynb)\n",
    "- [Build a medium size KG from a CSV dataset - kglab (derwen.ai)](https://derwen.ai/docs/kgl/ex2_0/) in in [kglab/examples/ex2_0.pynb](kglab/examples/ex2_0.ipynb)\n",
    "- [Run SPARQL queries - kglab (derwen.ai)](https://derwen.ai/docs/kgl/ex4_0/) in [kglab/examples/ex4_0.pynb](kglab/examples/ex4_0.ipynb)\n",
    "- [Interactive graph visualization with `PyVis` - kglab (derwen.ai)](https://derwen.ai/docs/kgl/ex3_0/) in in [kglab/examples/ex3_0.pynb](kglab/examples/ex3_0.ipynb)\n",
    "- [Measurement and inference - kglab (derwen.ai)](https://derwen.ai/docs/kgl/ex7_0/) in [kglab/examples/ex7_0.pynb](kglab/examples/ex7_0.ipynb)\n"
   ]
  },
  {
   "cell_type": "markdown",
   "metadata": {},
   "source": [
    "The Devcontainer in the code space should automatically install from the [.devcontainer/requirements.txt](.devcontainer/requirements.txt) fastai, kglab and pandas needed for other parts of this tutorial. To check these are installed correctly, the following code block"
   ]
  },
  {
   "cell_type": "code",
   "execution_count": 1,
   "metadata": {},
   "outputs": [
    {
     "name": "stdout",
     "output_type": "stream",
     "text": [
      "fastai version: 2.7.12\n",
      "kglab version: 0.6.6\n",
      "pandas version: 2.1.0\n"
     ]
    }
   ],
   "source": [
    "#| code-fold: false\n",
    "#| code-summary: \"Show the installed versions of kglab, fastai and pandas\"\n",
    "\n",
    "# Import libraries\n",
    "import fastai\n",
    "import kglab\n",
    "import pandas\n",
    "\n",
    "# Print versions\n",
    "print(f'fastai version: {fastai.__version__}')\n",
    "print(f'kglab version: {kglab.__version__}')\n",
    "print(f'pandas version: {pandas.__version__}')"
   ]
  }
 ],
 "metadata": {
  "kernelspec": {
   "display_name": "Python 3",
   "language": "python",
   "name": "python3"
  },
  "language_info": {
   "codemirror_mode": {
    "name": "ipython",
    "version": 3
   },
   "file_extension": ".py",
   "mimetype": "text/x-python",
   "name": "python",
   "nbconvert_exporter": "python",
   "pygments_lexer": "ipython3",
   "version": "3.10.12"
  },
  "orig_nbformat": 4
 },
 "nbformat": 4,
 "nbformat_minor": 2
}
