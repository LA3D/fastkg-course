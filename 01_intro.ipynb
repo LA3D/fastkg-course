{
 "cells": [
  {
   "cell_type": "markdown",
   "metadata": {},
   "source": [
    "---\n",
    "title: \"Introduction\"\n",
    "author: \"Charles F. Vardeman II\"\n",
    "date: \"2023-09-09\"\n",
    "format:\n",
    "    html:\n",
    "        code-fold: true\n",
    "        grid:\n",
    "          margin-width: 350px\n",
    "reference-location: margin\n",
    "citation-location: margin\n",
    "bibliography: kg.bib\n",
    "---"
   ]
  },
  {
   "cell_type": "markdown",
   "metadata": {},
   "source": [
    "## A \"Fast\" start to Knowledge Graphs using Semantic Technologies\n",
    "This set of jupyter notebooks and codespace are meant to [`bootstrap`](https://www.wikidata.org/wiki/Q1195936) your understanding of Knowledge Engineering, Knowledge Graphs, Linked Data and how Generative AI can leverage these technologies to be more factual. We say a `Fast` start because we want to use the learning principles as espoused by the [fast.ai - fast.ai—Making neural nets uncool again](https://www.fast.ai/) and summarized in the blog [fast.ai - Providing a Good Education in Deep Learning](https://www.fast.ai/posts/2016-10-08-teaching-philosophy.html). Hopefully this will make Knowledge Engineering just as `uncool` as neural networks.\n",
    "\n",
    "### Prerequisites\n",
    "Given that we are building on the Fast.ai approach, we will leverage some of their introductory materials for doing machine learning and working with AI. At a minimum, the readers should be familiar with:\n",
    "\n",
    "- [Practical Deep Learning for Coders - 1: Getting started (fast.ai)](https://course.fast.ai/Lessons/lesson1.html)\n",
    "- [course22/01-jupyter-notebook-101.ipynb at master · fastai/course22 (github.com)](https://github.com/fastai/course22/blob/master/01-jupyter-notebook-101.ipynb)\n",
    "- [Practical Deep Learning for Coders - 2: Deployment (fast.ai)](https://course.fast.ai/Lessons/lesson2.html)\n",
    "- [Practical Deep Learning for Coders - 3: Neural net foundations (fast.ai)](https://course.fast.ai/Lessons/lesson3.html)\n",
    "- [Practical Deep Learning for Coders - 4: Natural Language (NLP) (fast.ai)](https://course.fast.ai/Lessons/lesson4.html)\n",
    "\n",
    "::: {.callout-tip}\n",
    "## Use of Generative AI for learning!\n",
    "\n",
    "It turns out that ChatGPT, Bing Chat, Bard, Claude v2 and other Generative AI Agents tuned for `Conversational AI` have a decent knowledge of the [\"Semantic Web Stack\"](https://www.w3.org/2001/sw/Specs.html) and are particularly good at using Python tools for the semantic web like [rdflib](https://rdflib.readthedocs.io/en/stable/). We highly recommend using these `copilots` for creating code blocks, debugging and solving problems. We will leverage these agents in later notebooks for assisting in \"ontology\" construction.\n",
    ":::\n",
    "\n",
    "### Understanding of the `Semantic Web` Stack\n",
    "A vision for a `semantic web` was laid out by the \"father\" of the World Wide Web Tim Berners-Lee and his co-authors [@berners-leeSemanticWeb2001] in the paper [\"The Semantic Web\"](https://lassila.org/publications/2001/SciAm.pdf) that involved **Software Agents**, **Shared Formal Concepts called Ontologies**, and [**Linked Data**](https://www.w3.org/DesignIssues/LinkedData.html) to provide the structure for a world driven by *Assistive Agents*. To further this vision, the standards body for the Web, the World Wide Web Consortium (W3C) created standards for exchanging semantic Knowledge Graphs called the [Resource Description Framework (RDF)](https://www.w3.org/TR/rdf11-primer/) and a method for specifying formal shared concepts called [Web Ontology Language (OWL)](https://www.w3.org/TR/owl2-primer/). The publication, \"A data engineer's guide to semantic modeling\" [direct pdf download](https://zenodo.org/record/3898519/files/A%20data%20engineer%27s%20guide%20to%20semantic%20modelling.pdf?download=1) by Ilaria Maresi [@ilaria_maresi_2020_3898519] of [The Hyve](https://www.thehyve.nl/) provides a **very** accessible guide to \"semantic modeling\" and will be the *primary* reference going forward.\n",
    "\n",
    "## Knowledge Graphs\n",
    "A more technical reference on the topic of **Knowledge Graphs** is provided in the book [@kg-book]\n",
    "\n",
    "### Tools for constructing knowledge graphs\n",
    "[Derwen.ai](https://derwen.ai/) has created a Python Package called [kglab](https://derwen.ai/docs/kgl/) that \"provides a simple abstraction layer in Python for building knowledge graphs.\" The [kglab tutorial](https://derwen.ai/docs/kgl/tutorial/) is quite good at providing an introduction to the **semantic web** stack and have included [the GitHub repository](https://github.com/DerwenAI/kglab/) as a [git submodule](https://github.blog/2016-02-01-working-with-submodules/).\n",
    "\n",
    "We particularly recommend working through:\n",
    "\n",
    "- [Data and Ontology sources - kglab (derwen.ai)](https://derwen.ai/docs/kgl/ex0_0/) in [kglab/examples/ex0_0.pynb](kglab/examples/ex0_0.ipynb)\n",
    "- [Build an RDF graph using `RDFlib` - kglab (derwen.ai)](https://derwen.ai/docs/kgl/ex1_0/) in [kglab/examples/ex1_0.pynb](kglab/examples/ex1_0.ipynb)\n",
    "- [Leverage the `kglab` abstraction layer - kglab (derwen.ai)](https://derwen.ai/docs/kgl/ex1_1/) in in [kglab/examples/ex1_1.pynb](kglab/examples/ex1_1.ipynb)\n",
    "- [Build a medium size KG from a CSV dataset - kglab (derwen.ai)](https://derwen.ai/docs/kgl/ex2_0/) in in [kglab/examples/ex2_0.pynb](kglab/examples/ex2_0.ipynb)\n",
    "- [Run SPARQL queries - kglab (derwen.ai)](https://derwen.ai/docs/kgl/ex4_0/) in [kglab/examples/ex4_0.pynb](kglab/examples/ex4_0.ipynb)\n",
    "- [Interactive graph visualization with `PyVis` - kglab (derwen.ai)](https://derwen.ai/docs/kgl/ex3_0/) in in [kglab/examples/ex3_0.pynb](kglab/examples/ex3_0.ipynb)\n",
    "- [Measurement and inference - kglab (derwen.ai)](https://derwen.ai/docs/kgl/ex7_0/) in [kglab/examples/ex7_0.pynb](kglab/examples/ex7_0.ipynb)"
   ]
  },
  {
   "cell_type": "markdown",
   "metadata": {},
   "source": [
    "The Devcontainer in the code space should automatically install from the [.devcontainer/requirements.txt](.devcontainer/requirements.txt) should install fastai, kglab and pandas needed for other parts of this tutorial. To check these are installed correctly, the following code block"
   ]
  },
  {
   "cell_type": "code",
   "execution_count": 1,
   "metadata": {},
   "outputs": [
    {
     "name": "stdout",
     "output_type": "stream",
     "text": [
      "fastai version: 2.7.12\n",
      "kglab version: 0.6.6\n",
      "pandas version: 2.1.0\n"
     ]
    }
   ],
   "source": [
    "#| code-fold: false\n",
    "#| code-summary: \"Show the installed versions of kglab, fastai and pandas\"\n",
    "\n",
    "# Import libraries\n",
    "import fastai\n",
    "import kglab\n",
    "import pandas\n",
    "\n",
    "# Print versions\n",
    "print(f'fastai version: {fastai.__version__}')\n",
    "print(f'kglab version: {kglab.__version__}')\n",
    "print(f'pandas version: {pandas.__version__}')"
   ]
  }
 ],
 "metadata": {
  "kernelspec": {
   "display_name": "Python 3",
   "language": "python",
   "name": "python3"
  },
  "language_info": {
   "codemirror_mode": {
    "name": "ipython",
    "version": 3
   },
   "file_extension": ".py",
   "mimetype": "text/x-python",
   "name": "python",
   "nbconvert_exporter": "python",
   "pygments_lexer": "ipython3",
   "version": "3.10.12"
  },
  "orig_nbformat": 4
 },
 "nbformat": 4,
 "nbformat_minor": 2
}
