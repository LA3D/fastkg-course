{
 "cells": [
  {
   "cell_type": "markdown",
   "metadata": {},
   "source": [
    "---\n",
    "title: \"Introduction\"\n",
    "author: \"Charles F. Vardeman II\"\n",
    "date: \"2023-09-09\"\n",
    "format:\n",
    "    html:\n",
    "        code-fold: true\n",
    "        grid:\n",
    "          margin-width: 350px\n",
    "reference-location: margin\n",
    "citation-location: margin\n",
    "bibliography: kg.bib\n",
    "---"
   ]
  },
  {
   "cell_type": "markdown",
   "metadata": {},
   "source": [
    "## Introduction to Knowledge Graphs and Semantic Technologies"
   ]
  },
  {
   "cell_type": "markdown",
   "metadata": {},
   "source": []
  },
  {
   "cell_type": "code",
   "execution_count": 1,
   "metadata": {},
   "outputs": [
    {
     "name": "stdout",
     "output_type": "stream",
     "text": [
      "fastai version: 2.7.12\n",
      "kglab version: 0.6.6\n"
     ]
    }
   ],
   "source": [
    "# Import libraries\n",
    "import fastai\n",
    "import kglab\n",
    "import pandas\n",
    "\n",
    "# Print versions\n",
    "print(f'fastai version: {fastai.__version__}')\n",
    "print(f'kglab version: {kglab.__version__}')\n",
    "print(f'pandas version: {pandas.__version__}')"
   ]
  }
 ],
 "metadata": {
  "kernelspec": {
   "display_name": "Python 3",
   "language": "python",
   "name": "python3"
  },
  "language_info": {
   "codemirror_mode": {
    "name": "ipython",
    "version": 3
   },
   "file_extension": ".py",
   "mimetype": "text/x-python",
   "name": "python",
   "nbconvert_exporter": "python",
   "pygments_lexer": "ipython3",
   "version": "3.10.12"
  },
  "orig_nbformat": 4
 },
 "nbformat": 4,
 "nbformat_minor": 2
}
